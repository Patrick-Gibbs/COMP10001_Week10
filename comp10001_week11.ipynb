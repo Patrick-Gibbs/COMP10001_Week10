{
 "cells": [
  {
   "attachments": {},
   "cell_type": "markdown",
   "metadata": {},
   "source": [
    "## Common Mistakes on Assigmnet"
   ]
  },
  {
   "attachments": {},
   "cell_type": "markdown",
   "metadata": {},
   "source": [
    "All functions need a doc string"
   ]
  },
  {
   "cell_type": "code",
   "execution_count": 28,
   "metadata": {},
   "outputs": [],
   "source": [
    "DIR_UP = \"u\"\n",
    "DIR_DOWN = \"d\"\n",
    "DIR_LEFT = \"l\"\n",
    "DIR_RIGHT = \"r\"\n",
    "\n",
    "# all functoin need a doc string.\n",
    "def pretty_print(board):\n",
    "    \"\"\"\n",
    "    Takes a board, and prints it out in human readable format\n",
    "    \n",
    "    inputs:\n",
    "        board list(list(str)): a representation of the game board\n",
    "    returns:\n",
    "        None\n",
    "    \"\"\""
   ]
  },
  {
   "cell_type": "code",
   "execution_count": null,
   "metadata": {},
   "outputs": [],
   "source": [
    "# wrong (using #)\n",
    "def pretty_print(board):\n",
    "    # Takes a board, and prints it out in human readable format\n",
    "    # inputs:\n",
    "    #   board list(list(str)): a representation of the game board\n",
    "    # returns:\n",
    "    #    None\n",
    "    ..."
   ]
  },
  {
   "cell_type": "code",
   "execution_count": null,
   "metadata": {},
   "outputs": [],
   "source": [
    "# wrong (doc string on top)\n",
    "\"\"\"\n",
    "Takes a board, and prints it out in human readable format\n",
    "\n",
    "inputs:\n",
    "    board list(list(str)): a representation of the game board\n",
    "returns:\n",
    "    None\n",
    "\"\"\"\n",
    "def pretty_print(board):\n",
    "    ..."
   ]
  },
  {
   "attachments": {},
   "cell_type": "markdown",
   "metadata": {},
   "source": [
    "Comments under code they describe"
   ]
  },
  {
   "cell_type": "code",
   "execution_count": null,
   "metadata": {},
   "outputs": [],
   "source": [
    "COL_WIDTH = 3\n",
    "def pretty_print(board):\n",
    "    \"\"\" doc string \"\"\"\n",
    "\n",
    "    print('   ', end='')\n",
    "    for i in range(len(board[0])):\n",
    "        print(f'{i:<{COL_WIDTH}}', end='')\n",
    "    # print the first line (the header line)\n",
    "\n",
    "    print('   ' + '-' * (len(board[0]) * COL_WIDTH))\n",
    "    # print the second line, which consists of \"-\"\n"
   ]
  },
  {
   "attachments": {},
   "cell_type": "markdown",
   "metadata": {},
   "source": [
    "Comments to the right of code they describe"
   ]
  },
  {
   "cell_type": "code",
   "execution_count": 27,
   "metadata": {},
   "outputs": [],
   "source": [
    "COL_WIDTH = 3\n",
    "def pretty_print(board):\n",
    "    \"\"\" doc string \"\"\"\n",
    "\n",
    "    print('   ', end='') # print the first line (the header line)\n",
    "    for i in range(len(board[0])):\n",
    "        print(f'{i:<{COL_WIDTH}}', end='')\n",
    "    \n",
    "\n",
    "    print('   ' + '-' * (len(board[0]) * COL_WIDTH)) # print the second line, which consists of \"-\"\n",
    "    "
   ]
  },
  {
   "attachments": {},
   "cell_type": "markdown",
   "metadata": {},
   "source": [
    "Verbose Comments that are not high level / abstract enough"
   ]
  },
  {
   "cell_type": "code",
   "execution_count": null,
   "metadata": {},
   "outputs": [],
   "source": [
    "COL_WIDTH = 3\n",
    "def pretty_print(board):\n",
    "    \"\"\" doc string \"\"\"\n",
    "\n",
    "    # prints two spaces only, with out printing a new line\n",
    "    print('   ', end='')\n",
    "    # uses a for loop which iterates i to the lengh of the board\n",
    "    for i in range(len(board[0])):\n",
    "        # prints the iterger `i` right justfied which a total lengh of `COL_WIDTH`\n",
    "        print(f'{i:<{COL_WIDTH}}', end='')\n",
    "    \n",
    "    # prints two spaces then the `-`character repeatadly \n",
    "    print('   ' + '-' * (len(board[0]) * COL_WIDTH))\n",
    "    "
   ]
  },
  {
   "attachments": {},
   "cell_type": "markdown",
   "metadata": {},
   "source": [
    "single letter / uninformative variable names"
   ]
  },
  {
   "cell_type": "code",
   "execution_count": null,
   "metadata": {},
   "outputs": [],
   "source": [
    "# wrong\n",
    "a = len(board)\n",
    "b = len(board[0])\n",
    "\n",
    "# right\n",
    "row_number = len(board)\n",
    "column = len(board[0])"
   ]
  },
  {
   "attachments": {},
   "cell_type": "markdown",
   "metadata": {},
   "source": [
    "Magic numbers"
   ]
  },
  {
   "cell_type": "code",
   "execution_count": null,
   "metadata": {},
   "outputs": [],
   "source": [
    "move_direction = DIR_UP\n",
    "\n",
    "# wrong\n",
    "print(f'{i:<{3}}', end='')\n",
    "\n",
    "# right\n",
    "COL_WIDTH = 3\n",
    "print(f'{i:<{COL_WIDTH}}', end='')\n",
    "\n",
    "\n",
    "# wrong\n",
    "if move_direction == 'u':\n",
    "    ...\n",
    "\n",
    "# right\n",
    "DIR_UP = \"u\"\n",
    "if move_direction == DIR_UP:\n",
    "    ..."
   ]
  },
  {
   "attachments": {},
   "cell_type": "markdown",
   "metadata": {},
   "source": [
    "Repeated Code"
   ]
  },
  {
   "cell_type": "code",
   "execution_count": null,
   "metadata": {},
   "outputs": [],
   "source": [
    "X ,Y = 0,1\n",
    "DIR_UP = \"u\"\n",
    "DIR_DOWN = \"d\"\n",
    "DIR_LEFT = \"l\"\n",
    "DIR_RIGHT = \"r\"\n",
    "\n",
    "\n",
    "location = (0,0)\n",
    "direction = DIR_UP\n",
    "\n",
    "\n",
    "# wrong\n",
    "if direction == DIR_UP:\n",
    "    adjacent = []\n",
    "    adjacent.append((location[X] + 1, location[Y]))\n",
    "    adjacent.append((location[X] - 1, location[Y]))\n",
    "    adjacent.append((location[X], location[Y]) - 1)\n",
    "if direction == DIR_LEFT:\n",
    "    adjacent = []\n",
    "    adjacent.append((location[X] + 1, location[Y]))\n",
    "    adjacent.append((location[X] - 1, location[Y]))\n",
    "    adjacent.append((location[X], location[Y]) - 1)\n",
    "if direction == DIR_RIGHT:\n",
    "    adjacent = []\n",
    "    adjacent.append((location[X] + 1, location[Y]))\n",
    "    adjacent.append((location[X] - 1, location[Y]))\n",
    "    adjacent.append((location[X], location[Y]) + 1)\n",
    "\n",
    "if direction == DIR_DOWN:\n",
    "    adjacent = []\n",
    "    adjacent.append((location[X] + 1, location[Y]))\n",
    "    adjacent.append((location[X] - 1, location[Y]))\n",
    "    adjacent.append((location[X], location[Y]) + 1)\n",
    "\n",
    "# better\n",
    "directions = {\n",
    "    DIR_UP: [(1, 0), (-1, 0 ), (0, -1)],\n",
    "    DIR_LEFT: [(1, 0), (-1, 0 ), (0, -1)],\n",
    "    DIR_RIGHT: [(1, 0), (-1, 0 ), (0, -1)],\n",
    "    DIR_DOWN: [(1, 0), (-1, 0 ), (0, -1)]\n",
    "}\n",
    "adjacent = []\n",
    "for neighbours in directions[direction]:\n",
    "    adjacent.append((location[X] + neighbours[X], location[Y] + neighbours[Y]))"
   ]
  },
  {
   "attachments": {},
   "cell_type": "markdown",
   "metadata": {},
   "source": [
    "Other notes:\n",
    "1. Helper Function are Good\n",
    "2. "
   ]
  },
  {
   "attachments": {},
   "cell_type": "markdown",
   "metadata": {},
   "source": [
    "## Excpetion Handling"
   ]
  },
  {
   "cell_type": "code",
   "execution_count": null,
   "metadata": {},
   "outputs": [],
   "source": [
    "def my_divide(a,b):\n",
    "    print(f\"Computing {a} ÷ {b}\")\n",
    "    try:\n",
    "        solution = a / b\n",
    "    except ZeroDivisionError:\n",
    "        solution = \"oh no! you cant divide by zero\"\n",
    "    finally:\n",
    "        print(\"job done!\")\n",
    "        print(solution)\n",
    "\n",
    "my_divide(1, 2)\n",
    "print()\n",
    "\n",
    "my_divide(1,0)"
   ]
  },
  {
   "attachments": {},
   "cell_type": "markdown",
   "metadata": {},
   "source": [
    "## Itertools Library"
   ]
  },
  {
   "cell_type": "code",
   "execution_count": null,
   "metadata": {},
   "outputs": [],
   "source": [
    "letters_a_b_c = ['a', 'b', 'c']\n",
    "letters_d_e = ['d', 'e']\n",
    "import itertools"
   ]
  },
  {
   "cell_type": "code",
   "execution_count": null,
   "metadata": {},
   "outputs": [],
   "source": [
    "# shows the functionality of cycle\n",
    "letter_cycle = itertools.cycle(letters_a_b_c)\n",
    "print(next(letter_cycle))\n",
    "print(next(letter_cycle))\n",
    "print(next(letter_cycle))\n",
    "print(next(letter_cycle))"
   ]
  },
  {
   "cell_type": "code",
   "execution_count": null,
   "metadata": {},
   "outputs": [],
   "source": [
    "# cycle with a for loop\n",
    "i = 0\n",
    "for letter in itertools.cycle(letters_a_b_c):\n",
    "    print(letter, i)\n",
    "    i += 1\n",
    "    if i > 10:\n",
    "        break"
   ]
  },
  {
   "cell_type": "code",
   "execution_count": null,
   "metadata": {},
   "outputs": [],
   "source": [
    "# cycle with a for loop and enumerate\n",
    "i = 0\n",
    "for i, letter in enumerate(itertools.cycle(letters_a_b_c)):\n",
    "    print(letter, i)\n",
    "    if i > 10:\n",
    "        break"
   ]
  },
  {
   "cell_type": "code",
   "execution_count": null,
   "metadata": {},
   "outputs": [],
   "source": [
    "# every commbination pairwise elements. order doesnt matter\n",
    "\n",
    "list(itertools.product(letters_a_b_c, letters_d_e))"
   ]
  },
  {
   "cell_type": "code",
   "execution_count": null,
   "metadata": {},
   "outputs": [],
   "source": [
    "# unique subsets, order doesnt matter\n",
    "size = 2\n",
    "list(itertools.combinations(letters_a_b_c, size))"
   ]
  },
  {
   "cell_type": "code",
   "execution_count": null,
   "metadata": {},
   "outputs": [],
   "source": [
    "# unique subsets where order does matter.\n",
    "list(itertools.permutations(letters_a_b_c, size))"
   ]
  }
 ],
 "metadata": {
  "kernelspec": {
   "display_name": "Python 3",
   "language": "python",
   "name": "python3"
  },
  "language_info": {
   "codemirror_mode": {
    "name": "ipython",
    "version": 3
   },
   "file_extension": ".py",
   "mimetype": "text/x-python",
   "name": "python",
   "nbconvert_exporter": "python",
   "pygments_lexer": "ipython3",
   "version": "3.10.9"
  },
  "orig_nbformat": 4
 },
 "nbformat": 4,
 "nbformat_minor": 2
}
